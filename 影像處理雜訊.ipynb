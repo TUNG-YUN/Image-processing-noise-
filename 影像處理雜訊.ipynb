{
 "cells": [
  {
   "cell_type": "markdown",
   "id": "3acce160-d8aa-4616-b990-fd3bec570db4",
   "metadata": {},
   "source": [
    "查看一個資料夾有多少張圖片"
   ]
  },
  {
   "cell_type": "code",
   "execution_count": 47,
   "id": "851d5c69-e916-42e3-b932-3f17c6ecb010",
   "metadata": {},
   "outputs": [
    {
     "name": "stdout",
     "output_type": "stream",
     "text": [
      "Total number of images in the folder: 1000\n"
     ]
    }
   ],
   "source": [
    "import os\n",
    "\n",
    "def count_images_in_folder(folder_path):\n",
    "    # 遍历文件夹中的所有文件\n",
    "    file_list = os.listdir(folder_path)\n",
    "    \n",
    "    # 初始化计数器\n",
    "    image_count = 0\n",
    "    \n",
    "    # 对于文件夹中的每个文件\n",
    "    for file_name in file_list:\n",
    "        # 如果文件是图像文件，则增加计数器\n",
    "        if file_name.lower().endswith(('.png', '.jpg', '.jpeg', '.bmp', '.gif')):\n",
    "            image_count += 1\n",
    "    \n",
    "    return image_count\n",
    "\n",
    "# 指定要查看的文件夹路径\n",
    "folder_path = \"C:/Users/Rebecca/Desktop/thirdNoNPC1000\"\n",
    "\n",
    "\n",
    "# 调用函数获取图片数量\n",
    "image_count = count_images_in_folder(folder_path)\n",
    "\n",
    "print(\"Total number of images in the folder:\", image_count)"
   ]
  },
  {
   "cell_type": "markdown",
   "id": "49c5432e-9353-4560-81cf-f5e765bf2bf3",
   "metadata": {},
   "source": [
    "把多個資料夾合併"
   ]
  },
  {
   "cell_type": "code",
   "execution_count": 46,
   "id": "c7b78af9-3298-44f8-88a6-cb7efc9076ce",
   "metadata": {},
   "outputs": [
    {
     "name": "stdout",
     "output_type": "stream",
     "text": [
      "Images merged into: C:/Users/Rebecca/Desktop/thirdNoNPC1000\n"
     ]
    }
   ],
   "source": [
    "import os\n",
    "import shutil\n",
    "\n",
    "def merge_folders(input_folders, output_folder):\n",
    "    # 创建输出文件夹\n",
    "    os.makedirs(output_folder, exist_ok=True)\n",
    "    \n",
    "    # 遍历每个输入文件夹\n",
    "    for idx, folder in enumerate(input_folders, start=1):\n",
    "        # 遍历文件夹中的每个文件\n",
    "        for file_name in os.listdir(folder):\n",
    "            file_path = os.path.join(folder, file_name)\n",
    "            output_file_path = os.path.join(output_folder, file_name)\n",
    "            # 如果输出文件夹中已存在同名文件，则重命名并添加后缀\n",
    "            if os.path.exists(output_file_path):\n",
    "                base_name, extension = os.path.splitext(file_name)\n",
    "                new_file_name = f\"{base_name}_{1.5 + 0.3 * idx}{extension}\"\n",
    "                new_file_path = os.path.join(output_folder, new_file_name)\n",
    "                shutil.copy(file_path, new_file_path)\n",
    "            else:\n",
    "                shutil.copy(file_path, output_folder)\n",
    "    \n",
    "    print(\"Images merged into:\", output_folder)\n",
    "\n",
    "# 指定四个输入文件夹的路径\n",
    "input_folders = [\"C:/Users/Rebecca/Desktop/NoNPCGaussianNoise0.5\", \"C:/Users/Rebecca/Desktop/NoNPCGaussianNoise0.8\", \"C:/Users/Rebecca/Desktop/NoNPCGaussianNoise1.2\", \"C:/Users/Rebecca/Desktop/NoNPCRayleighNoise30\",\"C:/Users/Rebecca/Desktop/NoNPCRayleighNoise50\",\"C:/Users/Rebecca/Desktop/NoNPCImpulseNoise0.05\"]\n",
    "\n",
    "# 指定输出文件夹的路径\n",
    "output_folder = \"C:/Users/Rebecca/Desktop/thirdNoNPC1000\"\n",
    "\n",
    "# 合并四个文件夹中的图片到输出文件夹\n",
    "merge_folders(input_folders, output_folder)"
   ]
  },
  {
   "cell_type": "markdown",
   "id": "44290577-e59d-465e-9f78-48dfe82ac63a",
   "metadata": {},
   "source": [
    "任意選擇整個資料夾(Originaldataset內訓練資料集內的患有/沒有鼻咽癌影像檔C:\\Users\\Rebecca\\Desktop\\Originaldataset\\train\\NPCnoblacksame208)的整個資料夾進行高斯雜訊0.5、0.8、1.2擴增"
   ]
  },
  {
   "cell_type": "code",
   "execution_count": 42,
   "id": "74b66e88-505e-4133-9c8c-906fc1ae2182",
   "metadata": {},
   "outputs": [
    {
     "name": "stdout",
     "output_type": "stream",
     "text": [
      "Selected images with Gaussian noise added and saved to: C:/Users/Rebecca/Desktop/NoNPCGaussianNoise1.2\n"
     ]
    }
   ],
   "source": [
    "import os\n",
    "import random\n",
    "import shutil\n",
    "import cv2\n",
    "import numpy as np\n",
    "\n",
    "def add_gaussian_noise(image, mean, std_dev):\n",
    "    # 生成与图像大小相同的高斯噪声\n",
    "    noise = np.random.normal(mean, std_dev, image.shape).astype(np.uint8)\n",
    "    # 将噪声添加到图像中\n",
    "    noisy_image = cv2.add(image, noise)\n",
    "    return noisy_image\n",
    "\n",
    "def apply_gaussian_noise_to_images(input_folder, output_folder, num_images_to_select, mean, std_dev):\n",
    "    # 确保输出文件夹存在，不存在则创建\n",
    "    os.makedirs(output_folder, exist_ok=True)\n",
    "\n",
    "    # 获取输入文件夹中所有图片的路径\n",
    "    image_paths = [os.path.join(input_folder, f) for f in os.listdir(input_folder) if os.path.isfile(os.path.join(input_folder, f))]\n",
    "\n",
    "    # 随机选择指定数量的图片\n",
    "    selected_image_paths = random.sample(image_paths, num_images_to_select)\n",
    "\n",
    "    # 对每张选择的图片应用高斯噪声并保存到输出文件夹中\n",
    "    for image_path in selected_image_paths:\n",
    "        # 读取图片\n",
    "        image = cv2.imread(image_path)\n",
    "        \n",
    "        # 应用高斯噪声\n",
    "        noisy_image = add_gaussian_noise(image, mean, std_dev)\n",
    "        \n",
    "        # 保存添加噪声后的图片到输出文件夹中\n",
    "        file_name = os.path.basename(image_path)\n",
    "        output_image_path = os.path.join(output_folder, file_name)\n",
    "        cv2.imwrite(output_image_path, noisy_image)\n",
    "\n",
    "    print(\"Selected images with Gaussian noise added and saved to:\", output_folder)\n",
    "\n",
    "# 指定文件夹路径\n",
    "input_folder = \"C:/Users/Rebecca/Desktop/Originaldataset/train/noNPCnoblacksame208\"\n",
    "\n",
    "# 每次执行随机选择的图片数量\n",
    "num_images_to_select = 200\n",
    "\n",
    "# 指定新的文件夹路径\n",
    "output_folder = \"C:/Users/Rebecca/Desktop/NoNPCGaussianNoise1.2\"\n",
    "\n",
    "# 设置高斯噪声的均值和标准差\n",
    "mean = 0\n",
    "std_dev = 1.2 # 标准差的值可以根据需要进行调整\n",
    "\n",
    "# 执行添加高斯噪声并保存图片\n",
    "apply_gaussian_noise_to_images(input_folder, output_folder, num_images_to_select, mean, std_dev)\n"
   ]
  },
  {
   "cell_type": "markdown",
   "id": "d6a1e2a4-84f2-422f-8358-801e3fb411d3",
   "metadata": {},
   "source": [
    "任意選擇整個資料夾(Originaldataset內訓練資料集內的患有/沒有鼻咽癌影像檔C:\\Users\\Rebecca\\Desktop\\Originaldataset\\train\\NPCnoblacksame208)的整個資料夾進行瑞雷雜訊30、50擴增"
   ]
  },
  {
   "cell_type": "code",
   "execution_count": 44,
   "id": "051876b8-8b18-4698-b5e3-c4c7369333bf",
   "metadata": {},
   "outputs": [
    {
     "name": "stdout",
     "output_type": "stream",
     "text": [
      "Selected images with Rayleigh noise added and saved to: C:/Users/Rebecca/Desktop/NoNPCRayleighNoise50\n"
     ]
    }
   ],
   "source": [
    "import os\n",
    "import random\n",
    "import shutil\n",
    "import cv2\n",
    "import numpy as np\n",
    "\n",
    "def add_rayleigh_noise(image, scale):\n",
    "    # 生成与图像大小相同的瑞利噪声\n",
    "    noise = np.random.rayleigh(scale, image.shape).astype(np.uint8)\n",
    "    # 将噪声添加到图像中\n",
    "    noisy_image = cv2.add(image, noise)\n",
    "    return noisy_image\n",
    "\n",
    "def apply_rayleigh_noise_to_images(input_folder, output_folder, num_images_to_select, scale):\n",
    "    # 确保输出文件夹存在，不存在则创建\n",
    "    os.makedirs(output_folder, exist_ok=True)\n",
    "\n",
    "    # 获取输入文件夹中所有图片的路径\n",
    "    image_paths = [os.path.join(input_folder, f) for f in os.listdir(input_folder) if os.path.isfile(os.path.join(input_folder, f))]\n",
    "\n",
    "    # 随机选择指定数量的图片\n",
    "    selected_image_paths = random.sample(image_paths, num_images_to_select)\n",
    "\n",
    "    # 对每张选择的图片应用瑞利噪声并保存到输出文件夹中\n",
    "    for image_path in selected_image_paths:\n",
    "        # 读取图片\n",
    "        image = cv2.imread(image_path)\n",
    "        \n",
    "        # 应用瑞利噪声\n",
    "        noisy_image = add_rayleigh_noise(image, scale)\n",
    "        \n",
    "        # 保存添加噪声后的图片到输出文件夹中\n",
    "        file_name = os.path.basename(image_path)\n",
    "        output_image_path = os.path.join(output_folder, file_name)\n",
    "        cv2.imwrite(output_image_path, noisy_image)\n",
    "\n",
    "    print(\"Selected images with Rayleigh noise added and saved to:\", output_folder)\n",
    "\n",
    "# 指定文件夹路径\n",
    "input_folder = \"C:/Users/Rebecca/Desktop/Originaldataset/train/noNPCnoblacksame208\"\n",
    "\n",
    "# 每次执行随机选择的图片数量\n",
    "num_images_to_select = 200\n",
    "\n",
    "# 指定新的文件夹路径\n",
    "output_folder = \"C:/Users/Rebecca/Desktop/NoNPCRayleighNoise50\"\n",
    "\n",
    "# 设置瑞雷噪声的 scale 参数\n",
    "scale = 50 # scale 参数可以根据需要进行调整\n",
    "\n",
    "# 执行添加瑞雷噪声并保存图片\n",
    "apply_rayleigh_noise_to_images(input_folder, output_folder, num_images_to_select, scale)\n"
   ]
  },
  {
   "cell_type": "markdown",
   "id": "47bebf44-d123-4b8e-a2c7-1c642f314737",
   "metadata": {},
   "source": [
    "任意選擇整個資料夾(Originaldataset內訓練資料集內的患有/沒有鼻咽癌影像檔C:\\Users\\Rebecca\\Desktop\\Originaldataset\\train\\NPCnoblacksame208)的整個資料夾進行脈衝雜訊0.25擴增"
   ]
  },
  {
   "cell_type": "code",
   "execution_count": 45,
   "id": "d4d977a9-a894-4f6b-83b1-262e69f76a5f",
   "metadata": {},
   "outputs": [
    {
     "name": "stdout",
     "output_type": "stream",
     "text": [
      "Selected images with impulse noise added and saved to: C:/Users/Rebecca/Desktop/NoNPCImpulseNoise0.05\n"
     ]
    }
   ],
   "source": [
    "import os\n",
    "import random\n",
    "import shutil\n",
    "import cv2\n",
    "import numpy as np\n",
    "\n",
    "def add_impulse_noise(image, probability, intensity):\n",
    "    # 将脉冲噪声添加到图像中\n",
    "    noisy_image = np.copy(image)\n",
    "    height, width = image.shape[:2]\n",
    "    num_pixels = int(probability * height * width)\n",
    "    \n",
    "    # 在随机选择的像素位置添加脉冲噪声\n",
    "    for _ in range(num_pixels):\n",
    "        x = random.randint(0, width - 1)\n",
    "        y = random.randint(0, height - 1)\n",
    "        noisy_image[y, x] = intensity\n",
    "    \n",
    "    return noisy_image\n",
    "\n",
    "def apply_impulse_noise_to_images(input_folder, output_folder, num_images_to_select, probability, intensity):\n",
    "    # 确保输出文件夹存在，不存在则创建\n",
    "    os.makedirs(output_folder, exist_ok=True)\n",
    "\n",
    "    # 获取输入文件夹中所有图片的路径\n",
    "    image_paths = [os.path.join(input_folder, f) for f in os.listdir(input_folder) if os.path.isfile(os.path.join(input_folder, f))]\n",
    "\n",
    "    # 随机选择指定数量的图片\n",
    "    selected_image_paths = random.sample(image_paths, num_images_to_select)\n",
    "\n",
    "    # 对每张选择的图片应用脉冲噪声并保存到输出文件夹中\n",
    "    for image_path in selected_image_paths:\n",
    "        # 读取图片\n",
    "        image = cv2.imread(image_path)\n",
    "        \n",
    "        # 应用脉冲噪声\n",
    "        noisy_image = add_impulse_noise(image, probability, intensity)\n",
    "        \n",
    "        # 保存添加噪声后的图片到输出文件夹中\n",
    "        file_name = os.path.basename(image_path)\n",
    "        output_image_path = os.path.join(output_folder, file_name)\n",
    "        cv2.imwrite(output_image_path, noisy_image)\n",
    "\n",
    "    print(\"Selected images with impulse noise added and saved to:\", output_folder)\n",
    "\n",
    "# 指定文件夹路径\n",
    "input_folder = \"C:/Users/Rebecca/Desktop/Originaldataset/train/noNPCnoblacksame208\"\n",
    "\n",
    "# 每次执行随机选择的图片数量\n",
    "num_images_to_select = 200\n",
    "\n",
    "# 指定新的文件夹路径\n",
    "output_folder = \"C:/Users/Rebecca/Desktop/NoNPCImpulseNoise0.05\"\n",
    "\n",
    "# 设置脉冲噪声的概率和强度\n",
    "probability = 0.05  # 噪声出现的概率\n",
    "intensity = 255  # 噪声的强度，可以设置为最大值或最小值\n",
    "\n",
    "# 执行添加脉冲噪声并保存图片\n",
    "apply_impulse_noise_to_images(input_folder, output_folder, num_images_to_select, probability, intensity)\n"
   ]
  },
  {
   "cell_type": "code",
   "execution_count": null,
   "id": "1be8acb7-918d-47d0-a1e9-703af2f25f31",
   "metadata": {},
   "outputs": [],
   "source": []
  }
 ],
 "metadata": {
  "kernelspec": {
   "display_name": "Python 3 (ipykernel)",
   "language": "python",
   "name": "python3"
  },
  "language_info": {
   "codemirror_mode": {
    "name": "ipython",
    "version": 3
   },
   "file_extension": ".py",
   "mimetype": "text/x-python",
   "name": "python",
   "nbconvert_exporter": "python",
   "pygments_lexer": "ipython3",
   "version": "3.10.13"
  }
 },
 "nbformat": 4,
 "nbformat_minor": 5
}
